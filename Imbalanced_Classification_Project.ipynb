{
  "nbformat": 4,
  "nbformat_minor": 0,
  "metadata": {
    "colab": {
      "name": "Imbalanced Classification Project",
      "provenance": [],
      "collapsed_sections": [],
      "toc_visible": true
    },
    "kernelspec": {
      "display_name": "Python 3",
      "language": "python",
      "name": "python3"
    },
    "language_info": {
      "codemirror_mode": {
        "name": "ipython",
        "version": 3
      },
      "file_extension": ".py",
      "mimetype": "text/x-python",
      "name": "python",
      "nbconvert_exporter": "python",
      "pygments_lexer": "ipython3",
      "version": "3.7.4"
    }
  },
  "cells": [
    {
      "cell_type": "markdown",
      "metadata": {
        "id": "czJUgQ-6cA_p"
      },
      "source": [
        "#  Imbalanced Classification Project: Beta Bank Churn"
      ]
    },
    {
      "cell_type": "markdown",
      "metadata": {
        "id": "gLkzO7IdcA_r"
      },
      "source": [
        "## 1. Defining the Question"
      ]
    },
    {
      "cell_type": "markdown",
      "metadata": {
        "id": "JABkWE3JcA_s"
      },
      "source": [
        "### a) Specifying the Data Analysis Question"
      ]
    },
    {
      "cell_type": "markdown",
      "metadata": {
        "id": "1sGZ56H7cA_t"
      },
      "source": [
        "The task is  to develop a model will predict customer churn\n"
      ]
    },
    {
      "cell_type": "markdown",
      "metadata": {
        "id": "8XxsPjnQcA_t"
      },
      "source": [
        "### b) Defining the Metric for Success"
      ]
    },
    {
      "cell_type": "markdown",
      "metadata": {
        "id": "100AFlNtcA_u"
      },
      "source": [
        "We will have accomplished our objective if we build a model with the maximum possible f1 score"
      ]
    },
    {
      "cell_type": "markdown",
      "metadata": {
        "id": "SrzhnVvbcA_v"
      },
      "source": [
        "### c) Understanding the Context"
      ]
    },
    {
      "cell_type": "markdown",
      "metadata": {
        "id": "ehi1alkgcA_v"
      },
      "source": [
        "Beta Bank customers are leaving: little by little, chipping away every month. The bankers\n",
        "figured out it’s cheaper to save the existing customers rather than to attract new ones.\n",
        "We need to predict whether a customer will leave the bank soon. You have the data on\n",
        "clients’ past behavior and termination of contracts with the bank.\n",
        "Build a model with the maximum possible F1 score. To pass the project, you need an F1\n",
        "score of at least 0.59."
      ]
    },
    {
      "cell_type": "markdown",
      "metadata": {
        "id": "IV0fyMl_cA_w"
      },
      "source": [
        "### d) Recording the Experimental Design"
      ]
    },
    {
      "cell_type": "markdown",
      "metadata": {
        "id": "2-crdiQgcA_x"
      },
      "source": [
        "1. Load libraries and datasets.\n",
        "2. Prepare the data\n",
        "3. Analyze the data\n",
        "4. Machine learning modelling \n",
        "5. Predictions \n",
        "6. Conclusions and recommedation"
      ]
    },
    {
      "cell_type": "markdown",
      "metadata": {
        "id": "rz5Qg2aocA_x"
      },
      "source": [
        "### e) Data Relevance"
      ]
    },
    {
      "cell_type": "markdown",
      "metadata": {
        "id": "y3c-bdsRcA_y"
      },
      "source": [
        "The given data sets were relevant in answering the research question."
      ]
    },
    {
      "cell_type": "markdown",
      "metadata": {
        "id": "jefIDLCVcA_z"
      },
      "source": [
        "## 2. Data Cleaning & Analysis"
      ]
    },
    {
      "cell_type": "markdown",
      "metadata": {
        "id": "lik2LTbnah-x"
      },
      "source": [
        "###2.1.   Data cleaning & exploration"
      ]
    },
    {
      "cell_type": "code",
      "metadata": {
        "id": "jx0bMH04F0B5"
      },
      "source": [
        "# Loading the required libraries\n",
        "\n",
        "import pandas as pd\n",
        "import numpy as np\n",
        "import matplotlib.pyplot as plt\n",
        "import seaborn as sns\n",
        "\n",
        "# To preview all rows and columns\n",
        "pd.set_option('display.max_columns', None)\n",
        "pd.set_option('display.max_rows', None)"
      ],
      "execution_count": 1,
      "outputs": []
    },
    {
      "cell_type": "code",
      "metadata": {
        "id": "ZFt_VOxaIWQF"
      },
      "source": [
        "# Loading the dataset\n",
        "df=pd.read_csv('https://bit.ly/2XZK7Bo')"
      ],
      "execution_count": 2,
      "outputs": []
    },
    {
      "cell_type": "code",
      "metadata": {
        "id": "xNcUO9TmGQY9",
        "colab": {
          "base_uri": "https://localhost:8080/",
          "height": 226
        },
        "outputId": "8a43fb98-6f02-447b-eb89-b15e61c1e0fb"
      },
      "source": [
        "# Previewing the first 5 records\n",
        "df.head()"
      ],
      "execution_count": 3,
      "outputs": [
        {
          "output_type": "execute_result",
          "data": {
            "text/html": [
              "<div>\n",
              "<style scoped>\n",
              "    .dataframe tbody tr th:only-of-type {\n",
              "        vertical-align: middle;\n",
              "    }\n",
              "\n",
              "    .dataframe tbody tr th {\n",
              "        vertical-align: top;\n",
              "    }\n",
              "\n",
              "    .dataframe thead th {\n",
              "        text-align: right;\n",
              "    }\n",
              "</style>\n",
              "<table border=\"1\" class=\"dataframe\">\n",
              "  <thead>\n",
              "    <tr style=\"text-align: right;\">\n",
              "      <th></th>\n",
              "      <th>RowNumber</th>\n",
              "      <th>CustomerId</th>\n",
              "      <th>Surname</th>\n",
              "      <th>CreditScore</th>\n",
              "      <th>Geography</th>\n",
              "      <th>Gender</th>\n",
              "      <th>Age</th>\n",
              "      <th>Tenure</th>\n",
              "      <th>Balance</th>\n",
              "      <th>NumOfProducts</th>\n",
              "      <th>HasCrCard</th>\n",
              "      <th>IsActiveMember</th>\n",
              "      <th>EstimatedSalary</th>\n",
              "      <th>Exited</th>\n",
              "    </tr>\n",
              "  </thead>\n",
              "  <tbody>\n",
              "    <tr>\n",
              "      <th>0</th>\n",
              "      <td>1</td>\n",
              "      <td>15634602</td>\n",
              "      <td>Hargrave</td>\n",
              "      <td>619</td>\n",
              "      <td>France</td>\n",
              "      <td>Female</td>\n",
              "      <td>42</td>\n",
              "      <td>2.0</td>\n",
              "      <td>0.00</td>\n",
              "      <td>1</td>\n",
              "      <td>1</td>\n",
              "      <td>1</td>\n",
              "      <td>101348.88</td>\n",
              "      <td>1</td>\n",
              "    </tr>\n",
              "    <tr>\n",
              "      <th>1</th>\n",
              "      <td>2</td>\n",
              "      <td>15647311</td>\n",
              "      <td>Hill</td>\n",
              "      <td>608</td>\n",
              "      <td>Spain</td>\n",
              "      <td>Female</td>\n",
              "      <td>41</td>\n",
              "      <td>1.0</td>\n",
              "      <td>83807.86</td>\n",
              "      <td>1</td>\n",
              "      <td>0</td>\n",
              "      <td>1</td>\n",
              "      <td>112542.58</td>\n",
              "      <td>0</td>\n",
              "    </tr>\n",
              "    <tr>\n",
              "      <th>2</th>\n",
              "      <td>3</td>\n",
              "      <td>15619304</td>\n",
              "      <td>Onio</td>\n",
              "      <td>502</td>\n",
              "      <td>France</td>\n",
              "      <td>Female</td>\n",
              "      <td>42</td>\n",
              "      <td>8.0</td>\n",
              "      <td>159660.80</td>\n",
              "      <td>3</td>\n",
              "      <td>1</td>\n",
              "      <td>0</td>\n",
              "      <td>113931.57</td>\n",
              "      <td>1</td>\n",
              "    </tr>\n",
              "    <tr>\n",
              "      <th>3</th>\n",
              "      <td>4</td>\n",
              "      <td>15701354</td>\n",
              "      <td>Boni</td>\n",
              "      <td>699</td>\n",
              "      <td>France</td>\n",
              "      <td>Female</td>\n",
              "      <td>39</td>\n",
              "      <td>1.0</td>\n",
              "      <td>0.00</td>\n",
              "      <td>2</td>\n",
              "      <td>0</td>\n",
              "      <td>0</td>\n",
              "      <td>93826.63</td>\n",
              "      <td>0</td>\n",
              "    </tr>\n",
              "    <tr>\n",
              "      <th>4</th>\n",
              "      <td>5</td>\n",
              "      <td>15737888</td>\n",
              "      <td>Mitchell</td>\n",
              "      <td>850</td>\n",
              "      <td>Spain</td>\n",
              "      <td>Female</td>\n",
              "      <td>43</td>\n",
              "      <td>2.0</td>\n",
              "      <td>125510.82</td>\n",
              "      <td>1</td>\n",
              "      <td>1</td>\n",
              "      <td>1</td>\n",
              "      <td>79084.10</td>\n",
              "      <td>0</td>\n",
              "    </tr>\n",
              "  </tbody>\n",
              "</table>\n",
              "</div>"
            ],
            "text/plain": [
              "   RowNumber  CustomerId   Surname  CreditScore Geography  Gender  Age  \\\n",
              "0          1    15634602  Hargrave          619    France  Female   42   \n",
              "1          2    15647311      Hill          608     Spain  Female   41   \n",
              "2          3    15619304      Onio          502    France  Female   42   \n",
              "3          4    15701354      Boni          699    France  Female   39   \n",
              "4          5    15737888  Mitchell          850     Spain  Female   43   \n",
              "\n",
              "   Tenure    Balance  NumOfProducts  HasCrCard  IsActiveMember  \\\n",
              "0     2.0       0.00              1          1               1   \n",
              "1     1.0   83807.86              1          0               1   \n",
              "2     8.0  159660.80              3          1               0   \n",
              "3     1.0       0.00              2          0               0   \n",
              "4     2.0  125510.82              1          1               1   \n",
              "\n",
              "   EstimatedSalary  Exited  \n",
              "0        101348.88       1  \n",
              "1        112542.58       0  \n",
              "2        113931.57       1  \n",
              "3         93826.63       0  \n",
              "4         79084.10       0  "
            ]
          },
          "metadata": {},
          "execution_count": 3
        }
      ]
    },
    {
      "cell_type": "code",
      "metadata": {
        "colab": {
          "base_uri": "https://localhost:8080/",
          "height": 132
        },
        "id": "l_n3yhY34zv7",
        "outputId": "58a6b51a-abd5-483f-9faf-6f2378e27c9e"
      },
      "source": [
        "#standardization of column names\n",
        "df.columns = df.columns.str.strip().str.lower().str.replace(')','').str.replace('?','')\n",
        "df.head(2)"
      ],
      "execution_count": 4,
      "outputs": [
        {
          "output_type": "execute_result",
          "data": {
            "text/html": [
              "<div>\n",
              "<style scoped>\n",
              "    .dataframe tbody tr th:only-of-type {\n",
              "        vertical-align: middle;\n",
              "    }\n",
              "\n",
              "    .dataframe tbody tr th {\n",
              "        vertical-align: top;\n",
              "    }\n",
              "\n",
              "    .dataframe thead th {\n",
              "        text-align: right;\n",
              "    }\n",
              "</style>\n",
              "<table border=\"1\" class=\"dataframe\">\n",
              "  <thead>\n",
              "    <tr style=\"text-align: right;\">\n",
              "      <th></th>\n",
              "      <th>rownumber</th>\n",
              "      <th>customerid</th>\n",
              "      <th>surname</th>\n",
              "      <th>creditscore</th>\n",
              "      <th>geography</th>\n",
              "      <th>gender</th>\n",
              "      <th>age</th>\n",
              "      <th>tenure</th>\n",
              "      <th>balance</th>\n",
              "      <th>numofproducts</th>\n",
              "      <th>hascrcard</th>\n",
              "      <th>isactivemember</th>\n",
              "      <th>estimatedsalary</th>\n",
              "      <th>exited</th>\n",
              "    </tr>\n",
              "  </thead>\n",
              "  <tbody>\n",
              "    <tr>\n",
              "      <th>0</th>\n",
              "      <td>1</td>\n",
              "      <td>15634602</td>\n",
              "      <td>Hargrave</td>\n",
              "      <td>619</td>\n",
              "      <td>France</td>\n",
              "      <td>Female</td>\n",
              "      <td>42</td>\n",
              "      <td>2.0</td>\n",
              "      <td>0.00</td>\n",
              "      <td>1</td>\n",
              "      <td>1</td>\n",
              "      <td>1</td>\n",
              "      <td>101348.88</td>\n",
              "      <td>1</td>\n",
              "    </tr>\n",
              "    <tr>\n",
              "      <th>1</th>\n",
              "      <td>2</td>\n",
              "      <td>15647311</td>\n",
              "      <td>Hill</td>\n",
              "      <td>608</td>\n",
              "      <td>Spain</td>\n",
              "      <td>Female</td>\n",
              "      <td>41</td>\n",
              "      <td>1.0</td>\n",
              "      <td>83807.86</td>\n",
              "      <td>1</td>\n",
              "      <td>0</td>\n",
              "      <td>1</td>\n",
              "      <td>112542.58</td>\n",
              "      <td>0</td>\n",
              "    </tr>\n",
              "  </tbody>\n",
              "</table>\n",
              "</div>"
            ],
            "text/plain": [
              "   rownumber  customerid   surname  creditscore geography  gender  age  \\\n",
              "0          1    15634602  Hargrave          619    France  Female   42   \n",
              "1          2    15647311      Hill          608     Spain  Female   41   \n",
              "\n",
              "   tenure   balance  numofproducts  hascrcard  isactivemember  \\\n",
              "0     2.0      0.00              1          1               1   \n",
              "1     1.0  83807.86              1          0               1   \n",
              "\n",
              "   estimatedsalary  exited  \n",
              "0        101348.88       1  \n",
              "1        112542.58       0  "
            ]
          },
          "metadata": {},
          "execution_count": 4
        }
      ]
    },
    {
      "cell_type": "code",
      "metadata": {
        "id": "Rtk-KKTPLmmd",
        "colab": {
          "base_uri": "https://localhost:8080/"
        },
        "outputId": "a6cfcbae-3c04-492d-80a6-ebbc06a83679"
      },
      "source": [
        "# Getting our dataset shape\n",
        "\n",
        "df.shape\n",
        "\n",
        "#dataframe has 10,000 rows and 14 columns"
      ],
      "execution_count": 5,
      "outputs": [
        {
          "output_type": "execute_result",
          "data": {
            "text/plain": [
              "(10000, 14)"
            ]
          },
          "metadata": {},
          "execution_count": 5
        }
      ]
    },
    {
      "cell_type": "code",
      "metadata": {
        "id": "8lNBkI-OrR7C",
        "colab": {
          "base_uri": "https://localhost:8080/"
        },
        "outputId": "b0630cf2-5b97-4d0c-ccc9-85023f87c7e9"
      },
      "source": [
        "# Looking for duplicates\n",
        "df.duplicated().sum()\n",
        "\n",
        "#there are no duplicate values "
      ],
      "execution_count": 6,
      "outputs": [
        {
          "output_type": "execute_result",
          "data": {
            "text/plain": [
              "0"
            ]
          },
          "metadata": {},
          "execution_count": 6
        }
      ]
    },
    {
      "cell_type": "code",
      "metadata": {
        "colab": {
          "base_uri": "https://localhost:8080/"
        },
        "id": "Xxztejv3Joyz",
        "outputId": "18e9d1b4-a1ff-43e0-9104-54ff5eb8145f"
      },
      "source": [
        "df.dtypes"
      ],
      "execution_count": 7,
      "outputs": [
        {
          "output_type": "execute_result",
          "data": {
            "text/plain": [
              "rownumber            int64\n",
              "customerid           int64\n",
              "surname             object\n",
              "creditscore          int64\n",
              "geography           object\n",
              "gender              object\n",
              "age                  int64\n",
              "tenure             float64\n",
              "balance            float64\n",
              "numofproducts        int64\n",
              "hascrcard            int64\n",
              "isactivemember       int64\n",
              "estimatedsalary    float64\n",
              "exited               int64\n",
              "dtype: object"
            ]
          },
          "metadata": {},
          "execution_count": 7
        }
      ]
    },
    {
      "cell_type": "code",
      "metadata": {
        "id": "6uuZbJSPz79W",
        "colab": {
          "base_uri": "https://localhost:8080/"
        },
        "outputId": "3c39cfe2-dc54-47f1-eb0a-98bd675434fc"
      },
      "source": [
        "# Looking for null values \n",
        "\n",
        "df.isnull().sum()\n",
        "\n",
        "#there are no missing values "
      ],
      "execution_count": 8,
      "outputs": [
        {
          "output_type": "execute_result",
          "data": {
            "text/plain": [
              "rownumber            0\n",
              "customerid           0\n",
              "surname              0\n",
              "creditscore          0\n",
              "geography            0\n",
              "gender               0\n",
              "age                  0\n",
              "tenure             909\n",
              "balance              0\n",
              "numofproducts        0\n",
              "hascrcard            0\n",
              "isactivemember       0\n",
              "estimatedsalary      0\n",
              "exited               0\n",
              "dtype: int64"
            ]
          },
          "metadata": {},
          "execution_count": 8
        }
      ]
    },
    {
      "cell_type": "code",
      "metadata": {
        "colab": {
          "base_uri": "https://localhost:8080/"
        },
        "id": "caPUtLJX4s3L",
        "outputId": "0d6432b5-c6c5-4e8d-8307-453c7fb626fa"
      },
      "source": [
        "# A closer inspection of the missing observations \n",
        "\n",
        "df['tenure'].value_counts().sort_values(ascending=False)\n",
        "df[df['tenure'].isnull()].head()\n",
        "df['tenure'] = df['tenure'].replace(np.nan,df['tenure'].mean())\n",
        "df.isnull().sum()\n",
        "\n",
        "#fill missing tenure values with mean values"
      ],
      "execution_count": 9,
      "outputs": [
        {
          "output_type": "execute_result",
          "data": {
            "text/plain": [
              "rownumber          0\n",
              "customerid         0\n",
              "surname            0\n",
              "creditscore        0\n",
              "geography          0\n",
              "gender             0\n",
              "age                0\n",
              "tenure             0\n",
              "balance            0\n",
              "numofproducts      0\n",
              "hascrcard          0\n",
              "isactivemember     0\n",
              "estimatedsalary    0\n",
              "exited             0\n",
              "dtype: int64"
            ]
          },
          "metadata": {},
          "execution_count": 9
        }
      ]
    },
    {
      "cell_type": "code",
      "metadata": {
        "colab": {
          "base_uri": "https://localhost:8080/"
        },
        "id": "eOv2JTMA6BLl",
        "outputId": "5cfded75-5975-4a13-b7a7-178f76d0ed15"
      },
      "source": [
        "df['tenure'] = df['tenure'].astype(int)\n",
        "df.dtypes"
      ],
      "execution_count": 10,
      "outputs": [
        {
          "output_type": "execute_result",
          "data": {
            "text/plain": [
              "rownumber            int64\n",
              "customerid           int64\n",
              "surname             object\n",
              "creditscore          int64\n",
              "geography           object\n",
              "gender              object\n",
              "age                  int64\n",
              "tenure               int64\n",
              "balance            float64\n",
              "numofproducts        int64\n",
              "hascrcard            int64\n",
              "isactivemember       int64\n",
              "estimatedsalary    float64\n",
              "exited               int64\n",
              "dtype: object"
            ]
          },
          "metadata": {},
          "execution_count": 10
        }
      ]
    },
    {
      "cell_type": "code",
      "metadata": {
        "colab": {
          "base_uri": "https://localhost:8080/",
          "height": 132
        },
        "id": "YRp22yn586nd",
        "outputId": "da324056-b17f-4bbd-e861-a6a2b6d7da1a"
      },
      "source": [
        "#transform categorical values in our dataset into numerical values: gender\n",
        "df['gender'] = np.where(df['gender'].str.contains('Male','Female'),1,0)\n",
        "df.head(2)"
      ],
      "execution_count": 11,
      "outputs": [
        {
          "output_type": "execute_result",
          "data": {
            "text/html": [
              "<div>\n",
              "<style scoped>\n",
              "    .dataframe tbody tr th:only-of-type {\n",
              "        vertical-align: middle;\n",
              "    }\n",
              "\n",
              "    .dataframe tbody tr th {\n",
              "        vertical-align: top;\n",
              "    }\n",
              "\n",
              "    .dataframe thead th {\n",
              "        text-align: right;\n",
              "    }\n",
              "</style>\n",
              "<table border=\"1\" class=\"dataframe\">\n",
              "  <thead>\n",
              "    <tr style=\"text-align: right;\">\n",
              "      <th></th>\n",
              "      <th>rownumber</th>\n",
              "      <th>customerid</th>\n",
              "      <th>surname</th>\n",
              "      <th>creditscore</th>\n",
              "      <th>geography</th>\n",
              "      <th>gender</th>\n",
              "      <th>age</th>\n",
              "      <th>tenure</th>\n",
              "      <th>balance</th>\n",
              "      <th>numofproducts</th>\n",
              "      <th>hascrcard</th>\n",
              "      <th>isactivemember</th>\n",
              "      <th>estimatedsalary</th>\n",
              "      <th>exited</th>\n",
              "    </tr>\n",
              "  </thead>\n",
              "  <tbody>\n",
              "    <tr>\n",
              "      <th>0</th>\n",
              "      <td>1</td>\n",
              "      <td>15634602</td>\n",
              "      <td>Hargrave</td>\n",
              "      <td>619</td>\n",
              "      <td>France</td>\n",
              "      <td>0</td>\n",
              "      <td>42</td>\n",
              "      <td>2</td>\n",
              "      <td>0.00</td>\n",
              "      <td>1</td>\n",
              "      <td>1</td>\n",
              "      <td>1</td>\n",
              "      <td>101348.88</td>\n",
              "      <td>1</td>\n",
              "    </tr>\n",
              "    <tr>\n",
              "      <th>1</th>\n",
              "      <td>2</td>\n",
              "      <td>15647311</td>\n",
              "      <td>Hill</td>\n",
              "      <td>608</td>\n",
              "      <td>Spain</td>\n",
              "      <td>0</td>\n",
              "      <td>41</td>\n",
              "      <td>1</td>\n",
              "      <td>83807.86</td>\n",
              "      <td>1</td>\n",
              "      <td>0</td>\n",
              "      <td>1</td>\n",
              "      <td>112542.58</td>\n",
              "      <td>0</td>\n",
              "    </tr>\n",
              "  </tbody>\n",
              "</table>\n",
              "</div>"
            ],
            "text/plain": [
              "   rownumber  customerid   surname  creditscore geography  gender  age  \\\n",
              "0          1    15634602  Hargrave          619    France       0   42   \n",
              "1          2    15647311      Hill          608     Spain       0   41   \n",
              "\n",
              "   tenure   balance  numofproducts  hascrcard  isactivemember  \\\n",
              "0       2      0.00              1          1               1   \n",
              "1       1  83807.86              1          0               1   \n",
              "\n",
              "   estimatedsalary  exited  \n",
              "0        101348.88       1  \n",
              "1        112542.58       0  "
            ]
          },
          "metadata": {},
          "execution_count": 11
        }
      ]
    },
    {
      "cell_type": "code",
      "metadata": {
        "colab": {
          "base_uri": "https://localhost:8080/",
          "height": 132
        },
        "id": "6qTO9KJ9BW65",
        "outputId": "cff8e05e-172c-4e78-c8f2-abf9157d19ab"
      },
      "source": [
        "#convert column into category\n",
        "df[\"geography\"] = df[\"geography\"].astype('category')\n",
        "df.dtypes\n",
        "\n",
        "# assign the encoded variable to a new column using the cat.codes accessor:\n",
        "df[\"geography\"] = df[\"geography\"].cat.codes\n",
        "df.head(2)"
      ],
      "execution_count": 12,
      "outputs": [
        {
          "output_type": "execute_result",
          "data": {
            "text/html": [
              "<div>\n",
              "<style scoped>\n",
              "    .dataframe tbody tr th:only-of-type {\n",
              "        vertical-align: middle;\n",
              "    }\n",
              "\n",
              "    .dataframe tbody tr th {\n",
              "        vertical-align: top;\n",
              "    }\n",
              "\n",
              "    .dataframe thead th {\n",
              "        text-align: right;\n",
              "    }\n",
              "</style>\n",
              "<table border=\"1\" class=\"dataframe\">\n",
              "  <thead>\n",
              "    <tr style=\"text-align: right;\">\n",
              "      <th></th>\n",
              "      <th>rownumber</th>\n",
              "      <th>customerid</th>\n",
              "      <th>surname</th>\n",
              "      <th>creditscore</th>\n",
              "      <th>geography</th>\n",
              "      <th>gender</th>\n",
              "      <th>age</th>\n",
              "      <th>tenure</th>\n",
              "      <th>balance</th>\n",
              "      <th>numofproducts</th>\n",
              "      <th>hascrcard</th>\n",
              "      <th>isactivemember</th>\n",
              "      <th>estimatedsalary</th>\n",
              "      <th>exited</th>\n",
              "    </tr>\n",
              "  </thead>\n",
              "  <tbody>\n",
              "    <tr>\n",
              "      <th>0</th>\n",
              "      <td>1</td>\n",
              "      <td>15634602</td>\n",
              "      <td>Hargrave</td>\n",
              "      <td>619</td>\n",
              "      <td>0</td>\n",
              "      <td>0</td>\n",
              "      <td>42</td>\n",
              "      <td>2</td>\n",
              "      <td>0.00</td>\n",
              "      <td>1</td>\n",
              "      <td>1</td>\n",
              "      <td>1</td>\n",
              "      <td>101348.88</td>\n",
              "      <td>1</td>\n",
              "    </tr>\n",
              "    <tr>\n",
              "      <th>1</th>\n",
              "      <td>2</td>\n",
              "      <td>15647311</td>\n",
              "      <td>Hill</td>\n",
              "      <td>608</td>\n",
              "      <td>2</td>\n",
              "      <td>0</td>\n",
              "      <td>41</td>\n",
              "      <td>1</td>\n",
              "      <td>83807.86</td>\n",
              "      <td>1</td>\n",
              "      <td>0</td>\n",
              "      <td>1</td>\n",
              "      <td>112542.58</td>\n",
              "      <td>0</td>\n",
              "    </tr>\n",
              "  </tbody>\n",
              "</table>\n",
              "</div>"
            ],
            "text/plain": [
              "   rownumber  customerid   surname  creditscore  geography  gender  age  \\\n",
              "0          1    15634602  Hargrave          619          0       0   42   \n",
              "1          2    15647311      Hill          608          2       0   41   \n",
              "\n",
              "   tenure   balance  numofproducts  hascrcard  isactivemember  \\\n",
              "0       2      0.00              1          1               1   \n",
              "1       1  83807.86              1          0               1   \n",
              "\n",
              "   estimatedsalary  exited  \n",
              "0        101348.88       1  \n",
              "1        112542.58       0  "
            ]
          },
          "metadata": {},
          "execution_count": 12
        }
      ]
    },
    {
      "cell_type": "markdown",
      "metadata": {
        "id": "NQTTZBxbjvB2"
      },
      "source": [
        "### 2.2. Machine Learning"
      ]
    },
    {
      "cell_type": "markdown",
      "metadata": {
        "id": "Eq-Uzo0KwcrG"
      },
      "source": [
        "#### 2.2.1 Data Modelling"
      ]
    },
    {
      "cell_type": "markdown",
      "metadata": {
        "id": "Kmtq7pirDH1w"
      },
      "source": [
        "Examine the balance of classes. Train the model without taking into account the\n",
        "imbalance. Briefly describe your findings.\n"
      ]
    },
    {
      "cell_type": "code",
      "metadata": {
        "colab": {
          "base_uri": "https://localhost:8080/"
        },
        "id": "Ut8LND7JH5Ru",
        "outputId": "b9c0f19d-c695-46bc-96f1-0219d98fbaed"
      },
      "source": [
        "#Examine the balance of classes\n",
        "print(df[df['exited']== 1]['exited'].count())\n",
        "print(df[df['exited']== 0]['exited'].count())\n",
        "\n",
        "#there is imbalance of classes of ratio 1:4"
      ],
      "execution_count": 13,
      "outputs": [
        {
          "output_type": "stream",
          "name": "stdout",
          "text": [
            "2037\n",
            "7963\n"
          ]
        }
      ]
    },
    {
      "cell_type": "markdown",
      "metadata": {
        "id": "aqQqkR3rJj60"
      },
      "source": [
        "Training models ignoring class imbalance"
      ]
    },
    {
      "cell_type": "code",
      "metadata": {
        "colab": {
          "base_uri": "https://localhost:8080/"
        },
        "id": "AdAlvzTPqgtu",
        "outputId": "0b0817e8-d56c-411b-d4c7-f41916e5ed29"
      },
      "source": [
        "#preparing data \n",
        "x = df.drop(['rownumber','exited','surname'], axis = 1)\n",
        "y = df['exited']  \n",
        "\n",
        "#drop rownumber and customer surname since they are not relevant in model prediction\n",
        "\n",
        "#Split the source data into a training set, a validation set, and a test set.\n",
        "#spliting the dataset (ratio 3:1:1)\n",
        "from sklearn.model_selection import train_test_split\n",
        "\n",
        "X_train, X_test, y_train, y_test = train_test_split(x, y, test_size = 0.2, random_state = 12345)\n",
        "\n",
        "#confirm size of datasets\n",
        "print(df.shape)\n",
        "print(X_train.shape)\n",
        "print(X_test.shape)\n",
        "print(y_train.shape)\n",
        "print(y_test.shape)"
      ],
      "execution_count": 14,
      "outputs": [
        {
          "output_type": "stream",
          "name": "stdout",
          "text": [
            "(10000, 14)\n",
            "(8000, 11)\n",
            "(2000, 11)\n",
            "(8000,)\n",
            "(2000,)\n"
          ]
        }
      ]
    },
    {
      "cell_type": "code",
      "metadata": {
        "id": "Sv-5z_kYMmxN"
      },
      "source": [
        "#normalisation to scale the data between 0 and 1 to get better accuracy \n",
        "#performing normalization\n",
        "from sklearn.preprocessing import MinMaxScaler\n",
        "norm = MinMaxScaler().fit(X_train)\n",
        "X_train = norm.transform(X_train)\n",
        "X_test = norm.transform(X_test)"
      ],
      "execution_count": 17,
      "outputs": []
    },
    {
      "cell_type": "code",
      "metadata": {
        "id": "ZNFXnYGn6xe3"
      },
      "source": [
        "#import classifers \n",
        "from sklearn.linear_model import LogisticRegression # Logistic Regression Classifier\n",
        "from sklearn.tree import DecisionTreeClassifier     # Decision Tree Classifier\n",
        "from sklearn.ensemble import RandomForestClassifier #Random Forest Classifer\n",
        "from sklearn.dummy import DummyClassifier           #dummy classifer"
      ],
      "execution_count": 18,
      "outputs": []
    },
    {
      "cell_type": "code",
      "metadata": {
        "id": "rrR7vwjU7D06"
      },
      "source": [
        "#instance of classifers \n",
        "logistic_classifier = LogisticRegression()\n",
        "decision_classifier = DecisionTreeClassifier()\n",
        "random_classifer = RandomForestClassifier()\n",
        "dummy_classifer = DummyClassifier()"
      ],
      "execution_count": 19,
      "outputs": []
    },
    {
      "cell_type": "code",
      "metadata": {
        "colab": {
          "base_uri": "https://localhost:8080/"
        },
        "id": "XpwE4m367F_-",
        "outputId": "d3a4686b-6015-45f7-fd33-11e199d07f7b"
      },
      "source": [
        "#train model\n",
        "logistic_classifier.fit(X_train, y_train)\n",
        "decision_classifier.fit(X_train, y_train)\n",
        "random_classifer.fit(X_train, y_train)\n",
        "dummy_classifer.fit(X_train, y_train)"
      ],
      "execution_count": 20,
      "outputs": [
        {
          "output_type": "stream",
          "name": "stderr",
          "text": [
            "/usr/local/lib/python3.7/dist-packages/sklearn/dummy.py:132: FutureWarning: The default value of strategy will change from stratified to prior in 0.24.\n",
            "  \"stratified to prior in 0.24.\", FutureWarning)\n"
          ]
        },
        {
          "output_type": "execute_result",
          "data": {
            "text/plain": [
              "DummyClassifier(constant=None, random_state=None, strategy='warn')"
            ]
          },
          "metadata": {},
          "execution_count": 20
        }
      ]
    },
    {
      "cell_type": "code",
      "metadata": {
        "id": "_Rm5uQpP7IUn"
      },
      "source": [
        "#predict test results\n",
        "logistic_y_prediction = logistic_classifier.predict(X_test) \n",
        "decision_y_prediction = decision_classifier.predict(X_test) \n",
        "random_y_prediction = random_classifer.predict(X_test) \n",
        "dummy_y_prediction = dummy_classifer.predict(X_test) "
      ],
      "execution_count": 21,
      "outputs": []
    },
    {
      "cell_type": "code",
      "metadata": {
        "colab": {
          "base_uri": "https://localhost:8080/"
        },
        "id": "CUEJ1mxoCo-L",
        "outputId": "c8e68a3d-3795-40eb-9ed5-97dd154589e0"
      },
      "source": [
        "from sklearn.metrics import accuracy_score \n",
        "#print accuracy of classifers\n",
        "print('Logistic accuracy:') \n",
        "print(accuracy_score(logistic_y_prediction, y_test)) \n",
        "print('Decision Tree accuracy:')\n",
        "print(accuracy_score(decision_y_prediction, y_test))\n",
        "print('Random Forest accuracy:')\n",
        "print(accuracy_score(random_y_prediction, y_test))\n",
        "print('Dummy accuracy:')\n",
        "print(accuracy_score(dummy_y_prediction, y_test))\n",
        "\n",
        "#the most accurate classifer is random forest classifer at 0.86\n",
        "#by random guessing the accuracy score is at 0.68"
      ],
      "execution_count": 22,
      "outputs": [
        {
          "output_type": "stream",
          "name": "stdout",
          "text": [
            "Logistic accuracy:\n",
            "0.7985\n",
            "Decision Tree accuracy:\n",
            "0.7715\n",
            "Random Forest accuracy:\n",
            "0.848\n",
            "Dummy accuracy:\n",
            "0.6855\n"
          ]
        }
      ]
    },
    {
      "cell_type": "code",
      "metadata": {
        "colab": {
          "base_uri": "https://localhost:8080/"
        },
        "id": "5GfJcSgsJf1c",
        "outputId": "5071f63e-1d54-49d4-c3fd-898d91447ad1"
      },
      "source": [
        "from sklearn.metrics import f1_score\n",
        "#print accuracy of classifers\n",
        "print('Logistic f1_score:') \n",
        "print(f1_score(logistic_y_prediction, y_test)) \n",
        "print('Decision Tree f1_score:')\n",
        "print(f1_score(decision_y_prediction, y_test))\n",
        "print('Random Forest f1_score:')\n",
        "print(f1_score(random_y_prediction, y_test))\n",
        "print('Dummy f1_score:')\n",
        "print(f1_score(dummy_y_prediction, y_test))\n",
        "#the best classifer is random forest classifer at 0.57"
      ],
      "execution_count": 23,
      "outputs": [
        {
          "output_type": "stream",
          "name": "stdout",
          "text": [
            "Logistic f1_score:\n",
            "0.25231910946196656\n",
            "Decision Tree f1_score:\n",
            "0.46922183507549364\n",
            "Random Forest f1_score:\n",
            "0.5351681957186545\n",
            "Dummy f1_score:\n",
            "0.24670658682634727\n"
          ]
        }
      ]
    },
    {
      "cell_type": "code",
      "metadata": {
        "id": "bdG3BC7XLL8Z"
      },
      "source": [
        "#prediction probabilities test results\n",
        "logistic_y_proba = logistic_classifier.predict_proba(X_test)[:,1]\n",
        "decision_y_proba = decision_classifier.predict_proba(X_test)[:,1]\n",
        "random_y_proba = random_classifer.predict_proba(X_test)[:,1] \n",
        "dummy_y_proba = dummy_classifer.predict_proba(X_test)[:,1] "
      ],
      "execution_count": 24,
      "outputs": []
    },
    {
      "cell_type": "code",
      "metadata": {
        "colab": {
          "base_uri": "https://localhost:8080/"
        },
        "id": "2QZzALNSJqzM",
        "outputId": "9d680e5f-2f1a-4ca9-908d-9b5111c560f9"
      },
      "source": [
        "from sklearn.metrics import roc_auc_score\n",
        "\n",
        "#print accuracy of classifers\n",
        "print('Logistic auc:') \n",
        "print(roc_auc_score(y_test,logistic_y_proba)) \n",
        "print('Decision Tree auc:')\n",
        "print(roc_auc_score(y_test, decision_y_proba))\n",
        "print('Random Forest auc:')\n",
        "print(roc_auc_score(y_test, random_y_proba))\n",
        "print('Dummy auc:')\n",
        "print(roc_auc_score(y_test,dummy_y_proba))\n",
        "\n",
        "#random forest classifier has the highest chance to distinguish the positive and negative class values "
      ],
      "execution_count": 25,
      "outputs": [
        {
          "output_type": "stream",
          "name": "stdout",
          "text": [
            "Logistic auc:\n",
            "0.7443376295835311\n",
            "Decision Tree auc:\n",
            "0.6627895204646324\n",
            "Random Forest auc:\n",
            "0.8564490650928803\n",
            "Dummy auc:\n",
            "0.5022980000625307\n"
          ]
        }
      ]
    },
    {
      "cell_type": "markdown",
      "metadata": {
        "id": "FioWO5BcjLyO"
      },
      "source": [
        "#### 2.2.2 Evaluation Metrics"
      ]
    },
    {
      "cell_type": "markdown",
      "metadata": {
        "id": "2ilwcA6EDB2g"
      },
      "source": [
        "Improve the quality of the model. Make sure you use at least two approaches to\n",
        "fixing class imbalance. Use the training set to pick the best parameters. Train\n",
        "different models on training and validation sets. Find the best one. Briefly\n",
        "describe your findings.\n"
      ]
    },
    {
      "cell_type": "code",
      "metadata": {
        "colab": {
          "base_uri": "https://localhost:8080/"
        },
        "id": "7s0xTxM_C9-Z",
        "outputId": "e5443a63-fbbf-4fb3-bbc2-aa037946ad0c"
      },
      "source": [
        "# fixing class imbalance\n",
        "from sklearn.utils import shuffle\n",
        "#upsampling\n",
        "\n",
        "def upsample(features, target, repeat):\n",
        "    features_zeros = x[y == 0]\n",
        "    features_ones = x[y == 1]\n",
        "    target_zeros = y[y == 0]\n",
        "    target_ones = y[y == 1]\n",
        "\n",
        "    features_upsampled = pd.concat([features_zeros] + [features_ones] * repeat)\n",
        "    target_upsampled = pd.concat([target_zeros] + [target_ones] * repeat)\n",
        "\n",
        "    features_upsampled, target_upsampled = shuffle( \n",
        "        features_upsampled, target_upsampled,random_state=12345\n",
        "    )\n",
        "\n",
        "    return features_upsampled, target_upsampled\n",
        "\n",
        "features_upsampled, target_upsampled = upsample(\n",
        "    X_train, y_train, 10\n",
        ")\n",
        "\n",
        "upsampled_logistic =LogisticRegression(random_state=12345,solver='liblinear')\n",
        "upsampled_logistic.fit(features_upsampled, target_upsampled)\n",
        "upsampled_logistic_pred = upsampled_logistic.predict(X_test)\n",
        "\n",
        "print('Accuracy', upsampled_logistic.score(X_test, y_test))\n",
        "print('F1 score:' ,f1_score(y_test, upsampled_logistic_pred))\n",
        "logistic_proba = upsampled_logistic.predict_proba(X_test)[:,1]\n",
        "print('AUC:',roc_auc_score(y_test, logistic_proba))\n",
        "\n",
        "#upsampling for original data was done correctly "
      ],
      "execution_count": 37,
      "outputs": [
        {
          "output_type": "stream",
          "name": "stdout",
          "text": [
            "Accuracy 0.2135\n",
            "F1 score: 0.3518747424804285\n",
            "AUC: 0.5717352692017372\n"
          ]
        }
      ]
    },
    {
      "cell_type": "code",
      "metadata": {
        "colab": {
          "base_uri": "https://localhost:8080/"
        },
        "id": "kDGGWazT9j6L",
        "outputId": "1451f4d5-ebe8-4ac3-ec7e-2893afc7008c"
      },
      "source": [
        "#downsampling\n",
        "\n",
        "def downsample(features, target, fraction):\n",
        "    features_zeros = x[y == 0]\n",
        "    features_ones = x[y == 1]\n",
        "    target_zeros = y[y == 0]\n",
        "    target_ones = y[y == 1]\n",
        "\n",
        "    features_downsampled = pd.concat(\n",
        "    [features_zeros.sample(frac=fraction,random_state=12345)] + [features_ones])\n",
        "\n",
        "    target_downsampled = pd.concat(\n",
        "    [target_zeros.sample(frac=fraction,random_state=12345)] + [target_ones])\n",
        "\n",
        "    return features_downsampled, target_downsampled\n",
        "\n",
        "features_downsampled, target_downsampled = downsample(\n",
        "    X_train,y_train, 0.1\n",
        ")\n",
        "\n",
        "downsampled_logistic =LogisticRegression(random_state=12345,solver='liblinear')\n",
        "downsampled_logistic.fit(features_downsampled, target_downsampled)\n",
        "downsampled_logistic_pred = downsampled_logistic.predict(X_test)\n",
        "\n",
        "print('Accuracy', downsampled_logistic.score(X_test, y_test))\n",
        "print('F1 score:' ,f1_score(y_test, downsampled_logistic_pred))\n",
        "logistic_proba = downsampled_logistic.predict_proba(X_test)[:,1]\n",
        "print('AUC:',roc_auc_score(y_test, logistic_proba))\n",
        "\n",
        "#downsampling for original data was done correctly "
      ],
      "execution_count": 67,
      "outputs": [
        {
          "output_type": "stream",
          "name": "stdout",
          "text": [
            "Accuracy 0.214\n",
            "F1 score: 0.3520197856553998\n",
            "AUC: 0.5717054927189056\n"
          ]
        }
      ]
    },
    {
      "cell_type": "markdown",
      "metadata": {
        "id": "sPKQNegPjVsN"
      },
      "source": [
        "#### 2.2.3 Hyperparameter Tuning "
      ]
    },
    {
      "cell_type": "markdown",
      "metadata": {
        "id": "4NyiEA4dC5ek"
      },
      "source": [
        "from the previous codes, Random forest gives us the best F1 score of 0.53. In order to improve the F1 score, the above model, we need to get the best hyperparameters"
      ]
    },
    {
      "cell_type": "code",
      "metadata": {
        "colab": {
          "base_uri": "https://localhost:8080/"
        },
        "id": "qQamUB0QB40m",
        "outputId": "a31fdd73-bf65-4542-b403-70f9dca568b7"
      },
      "source": [
        "#random forest tuning\n",
        "from sklearn.model_selection import GridSearchCV\n",
        "depth_param = {'max_depth':range(1,10), 'n_estimators':range(1,50)}\n",
        "hyper_forest = RandomForestClassifier(random_state=12345, class_weight='balanced')\n",
        "grid_forest = GridSearchCV(hyper_forest,depth_param)\n",
        "grid_forest.fit(X_train, y_train)\n",
        "print(grid_forest.best_estimator_)\n",
        "hyper_predicted = grid_forest.predict(X_test)\n",
        "print('Forest Accuracy:', grid_forest.score(X_test, y_test))\n",
        "print('Forest F1 score:', f1_score(y_test, hyper_predicted))\n",
        "forest_proba = grid_forest.predict_proba(X_test)[:,1]\n",
        "print('Forest AUC:', roc_auc_score(y_test,forest_proba))"
      ],
      "execution_count": 75,
      "outputs": [
        {
          "output_type": "stream",
          "name": "stdout",
          "text": [
            "RandomForestClassifier(bootstrap=True, ccp_alpha=0.0, class_weight='balanced',\n",
            "                       criterion='gini', max_depth=9, max_features='auto',\n",
            "                       max_leaf_nodes=None, max_samples=None,\n",
            "                       min_impurity_decrease=0.0, min_impurity_split=None,\n",
            "                       min_samples_leaf=1, min_samples_split=2,\n",
            "                       min_weight_fraction_leaf=0.0, n_estimators=42,\n",
            "                       n_jobs=None, oob_score=False, random_state=12345,\n",
            "                       verbose=0, warm_start=False)\n",
            "Forest Accuracy: 0.833\n",
            "Forest F1 score: 0.6329670329670329\n",
            "Forest AUC: 0.8607562333344747\n"
          ]
        }
      ]
    },
    {
      "cell_type": "markdown",
      "metadata": {
        "id": "fzW7e93vHIJE"
      },
      "source": [
        "We get a f1 score of 0.63 for random forest, which is an greater than the F1 score expected of 0.59 "
      ]
    },
    {
      "cell_type": "markdown",
      "metadata": {
        "id": "KD2a1jeccBEv"
      },
      "source": [
        "## 3. Summary of Findings and Recommedations"
      ]
    },
    {
      "cell_type": "markdown",
      "metadata": {
        "id": "hZn1-mFnKDp8"
      },
      "source": [
        "Findings:\n",
        "\n",
        "Random Forest is the best classifer since it gives an F1 score of: 0.63"
      ]
    }
  ]
}